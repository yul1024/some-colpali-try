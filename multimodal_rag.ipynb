{
 "cells": [
  {
   "cell_type": "code",
   "execution_count": null,
   "id": "initial_id",
   "metadata": {
    "collapsed": true
   },
   "outputs": [],
   "source": [
    "!pip install colpali-engine==0.2.2 -q\n",
    "!pip install -U bitsandbytes -q\n",
    "!pip install mteb transformers tqdm typer seaborn -q\n",
    "!pip install pdf2image einops google-generativeai gradio -q"
   ]
  },
  {
   "metadata": {},
   "cell_type": "code",
   "outputs": [],
   "execution_count": null,
   "source": [
    "# Run in terminal\n",
    "sudo apt install poppler-utils"
   ],
   "id": "5278dbee0d249434"
  },
  {
   "metadata": {},
   "cell_type": "code",
   "outputs": [],
   "execution_count": null,
   "source": [
    "import os\n",
    "import gradio as gr\n",
    "import torch\n",
    "from pdf2image import convert_from_path\n",
    "from PIL import Image\n",
    "from torch.utils.data import DataLoader\n",
    "from tqdm import tqdm\n",
    "from transformers import AutoProcessor\n",
    " \n",
    "from colpali_engine.models.paligemma_colbert_architecture import ColPali\n",
    "from colpali_engine.trainer.retrieval_evaluator import CustomEvaluator\n",
    "from colpali_engine.utils.colpali_processing_utils import (\n",
    "    process_images,\n",
    "    process_queries,\n",
    ")"
   ],
   "id": "4229a765b3afb3c9"
  },
  {
   "metadata": {},
   "cell_type": "code",
   "outputs": [],
   "execution_count": null,
   "source": [
    "model_name = \"vidore/colpali\"  # specify the adapter model name\n",
    " \n",
    "bnb_config = BitsAndBytesConfig(\n",
    "    load_in_4bit=True,\n",
    "    bnb_4bit_quant_type=\"nf4\",\n",
    "    # bnb_4bit_compute_dtype=torch.bfloat16\n",
    ")\n",
    " \n",
    "retrieval_model = ColPali.from_pretrained(\n",
    "    \"google/paligemma-3b-mix-448\",\n",
    "    torch_dtype=torch.float16,  # set the dtype to bfloat16\n",
    "    device_map=\"cuda\",\n",
    "    quantization_config=bnb_config,\n",
    ").eval()  # set the device to cuda\n",
    " \n",
    "vit_config = VIT_CONFIG[\"google/paligemma-3b-mix-448\"]\n",
    " \n",
    "retrieval_model.load_adapter(model_name)\n",
    "paligemma_processor = AutoProcessor.from_pretrained(model_name)\n",
    "device = retrieval_model.device"
   ],
   "id": "61cf04c8da173fe"
  },
  {
   "metadata": {},
   "cell_type": "code",
   "outputs": [],
   "execution_count": null,
   "source": "",
   "id": "629e2b6a22bd11fa"
  }
 ],
 "metadata": {
  "kernelspec": {
   "display_name": "Python 3",
   "language": "python",
   "name": "python3"
  },
  "language_info": {
   "codemirror_mode": {
    "name": "ipython",
    "version": 2
   },
   "file_extension": ".py",
   "mimetype": "text/x-python",
   "name": "python",
   "nbconvert_exporter": "python",
   "pygments_lexer": "ipython2",
   "version": "2.7.6"
  }
 },
 "nbformat": 4,
 "nbformat_minor": 5
}
