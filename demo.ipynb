{
 "cells": [
  {
   "cell_type": "code",
   "id": "initial_id",
   "metadata": {
    "collapsed": true,
    "ExecuteTime": {
     "end_time": "2025-05-01T05:32:05.465699Z",
     "start_time": "2025-05-01T05:32:00.845659Z"
    }
   },
   "source": [
    "from pdf2image import convert_from_path\n",
    "from transformers import AutoProcessor"
   ],
   "outputs": [
    {
     "name": "stderr",
     "output_type": "stream",
     "text": [
      "C:\\Users\\yu\\anaconda3\\envs\\colpali_env\\Lib\\site-packages\\tqdm\\auto.py:21: TqdmWarning: IProgress not found. Please update jupyter and ipywidgets. See https://ipywidgets.readthedocs.io/en/stable/user_install.html\n",
      "  from .autonotebook import tqdm as notebook_tqdm\n"
     ]
    }
   ],
   "execution_count": 1
  },
  {
   "metadata": {
    "ExecuteTime": {
     "end_time": "2025-05-01T05:32:07.476118Z",
     "start_time": "2025-05-01T05:32:06.998156Z"
    }
   },
   "cell_type": "code",
   "source": "images = convert_from_path(pdf_path=r\"./data/1910.13461v1.pdf\")",
   "id": "f37b366aac54e023",
   "outputs": [
    {
     "ename": "PDFInfoNotInstalledError",
     "evalue": "Unable to get page count. Is poppler installed and in PATH?",
     "output_type": "error",
     "traceback": [
      "\u001B[31m---------------------------------------------------------------------------\u001B[39m",
      "\u001B[31mFileNotFoundError\u001B[39m                         Traceback (most recent call last)",
      "\u001B[36mFile \u001B[39m\u001B[32m~\\anaconda3\\envs\\colpali_env\\Lib\\site-packages\\pdf2image\\pdf2image.py:581\u001B[39m, in \u001B[36mpdfinfo_from_path\u001B[39m\u001B[34m(pdf_path, userpw, ownerpw, poppler_path, rawdates, timeout, first_page, last_page)\u001B[39m\n\u001B[32m    580\u001B[39m     env[\u001B[33m\"\u001B[39m\u001B[33mLD_LIBRARY_PATH\u001B[39m\u001B[33m\"\u001B[39m] = poppler_path + \u001B[33m\"\u001B[39m\u001B[33m:\u001B[39m\u001B[33m\"\u001B[39m + env.get(\u001B[33m\"\u001B[39m\u001B[33mLD_LIBRARY_PATH\u001B[39m\u001B[33m\"\u001B[39m, \u001B[33m\"\u001B[39m\u001B[33m\"\u001B[39m)\n\u001B[32m--> \u001B[39m\u001B[32m581\u001B[39m proc = \u001B[43mPopen\u001B[49m\u001B[43m(\u001B[49m\u001B[43mcommand\u001B[49m\u001B[43m,\u001B[49m\u001B[43m \u001B[49m\u001B[43menv\u001B[49m\u001B[43m=\u001B[49m\u001B[43menv\u001B[49m\u001B[43m,\u001B[49m\u001B[43m \u001B[49m\u001B[43mstdout\u001B[49m\u001B[43m=\u001B[49m\u001B[43mPIPE\u001B[49m\u001B[43m,\u001B[49m\u001B[43m \u001B[49m\u001B[43mstderr\u001B[49m\u001B[43m=\u001B[49m\u001B[43mPIPE\u001B[49m\u001B[43m)\u001B[49m\n\u001B[32m    583\u001B[39m \u001B[38;5;28;01mtry\u001B[39;00m:\n",
      "\u001B[36mFile \u001B[39m\u001B[32m~\\anaconda3\\envs\\colpali_env\\Lib\\subprocess.py:1026\u001B[39m, in \u001B[36mPopen.__init__\u001B[39m\u001B[34m(self, args, bufsize, executable, stdin, stdout, stderr, preexec_fn, close_fds, shell, cwd, env, universal_newlines, startupinfo, creationflags, restore_signals, start_new_session, pass_fds, user, group, extra_groups, encoding, errors, text, umask, pipesize, process_group)\u001B[39m\n\u001B[32m   1023\u001B[39m             \u001B[38;5;28mself\u001B[39m.stderr = io.TextIOWrapper(\u001B[38;5;28mself\u001B[39m.stderr,\n\u001B[32m   1024\u001B[39m                     encoding=encoding, errors=errors)\n\u001B[32m-> \u001B[39m\u001B[32m1026\u001B[39m     \u001B[38;5;28;43mself\u001B[39;49m\u001B[43m.\u001B[49m\u001B[43m_execute_child\u001B[49m\u001B[43m(\u001B[49m\u001B[43margs\u001B[49m\u001B[43m,\u001B[49m\u001B[43m \u001B[49m\u001B[43mexecutable\u001B[49m\u001B[43m,\u001B[49m\u001B[43m \u001B[49m\u001B[43mpreexec_fn\u001B[49m\u001B[43m,\u001B[49m\u001B[43m \u001B[49m\u001B[43mclose_fds\u001B[49m\u001B[43m,\u001B[49m\n\u001B[32m   1027\u001B[39m \u001B[43m                        \u001B[49m\u001B[43mpass_fds\u001B[49m\u001B[43m,\u001B[49m\u001B[43m \u001B[49m\u001B[43mcwd\u001B[49m\u001B[43m,\u001B[49m\u001B[43m \u001B[49m\u001B[43menv\u001B[49m\u001B[43m,\u001B[49m\n\u001B[32m   1028\u001B[39m \u001B[43m                        \u001B[49m\u001B[43mstartupinfo\u001B[49m\u001B[43m,\u001B[49m\u001B[43m \u001B[49m\u001B[43mcreationflags\u001B[49m\u001B[43m,\u001B[49m\u001B[43m \u001B[49m\u001B[43mshell\u001B[49m\u001B[43m,\u001B[49m\n\u001B[32m   1029\u001B[39m \u001B[43m                        \u001B[49m\u001B[43mp2cread\u001B[49m\u001B[43m,\u001B[49m\u001B[43m \u001B[49m\u001B[43mp2cwrite\u001B[49m\u001B[43m,\u001B[49m\n\u001B[32m   1030\u001B[39m \u001B[43m                        \u001B[49m\u001B[43mc2pread\u001B[49m\u001B[43m,\u001B[49m\u001B[43m \u001B[49m\u001B[43mc2pwrite\u001B[49m\u001B[43m,\u001B[49m\n\u001B[32m   1031\u001B[39m \u001B[43m                        \u001B[49m\u001B[43merrread\u001B[49m\u001B[43m,\u001B[49m\u001B[43m \u001B[49m\u001B[43merrwrite\u001B[49m\u001B[43m,\u001B[49m\n\u001B[32m   1032\u001B[39m \u001B[43m                        \u001B[49m\u001B[43mrestore_signals\u001B[49m\u001B[43m,\u001B[49m\n\u001B[32m   1033\u001B[39m \u001B[43m                        \u001B[49m\u001B[43mgid\u001B[49m\u001B[43m,\u001B[49m\u001B[43m \u001B[49m\u001B[43mgids\u001B[49m\u001B[43m,\u001B[49m\u001B[43m \u001B[49m\u001B[43muid\u001B[49m\u001B[43m,\u001B[49m\u001B[43m \u001B[49m\u001B[43mumask\u001B[49m\u001B[43m,\u001B[49m\n\u001B[32m   1034\u001B[39m \u001B[43m                        \u001B[49m\u001B[43mstart_new_session\u001B[49m\u001B[43m,\u001B[49m\u001B[43m \u001B[49m\u001B[43mprocess_group\u001B[49m\u001B[43m)\u001B[49m\n\u001B[32m   1035\u001B[39m \u001B[38;5;28;01mexcept\u001B[39;00m:\n\u001B[32m   1036\u001B[39m     \u001B[38;5;66;03m# Cleanup if the child failed starting.\u001B[39;00m\n",
      "\u001B[36mFile \u001B[39m\u001B[32m~\\anaconda3\\envs\\colpali_env\\Lib\\subprocess.py:1538\u001B[39m, in \u001B[36mPopen._execute_child\u001B[39m\u001B[34m(self, args, executable, preexec_fn, close_fds, pass_fds, cwd, env, startupinfo, creationflags, shell, p2cread, p2cwrite, c2pread, c2pwrite, errread, errwrite, unused_restore_signals, unused_gid, unused_gids, unused_uid, unused_umask, unused_start_new_session, unused_process_group)\u001B[39m\n\u001B[32m   1537\u001B[39m \u001B[38;5;28;01mtry\u001B[39;00m:\n\u001B[32m-> \u001B[39m\u001B[32m1538\u001B[39m     hp, ht, pid, tid = \u001B[43m_winapi\u001B[49m\u001B[43m.\u001B[49m\u001B[43mCreateProcess\u001B[49m\u001B[43m(\u001B[49m\u001B[43mexecutable\u001B[49m\u001B[43m,\u001B[49m\u001B[43m \u001B[49m\u001B[43margs\u001B[49m\u001B[43m,\u001B[49m\n\u001B[32m   1539\u001B[39m \u001B[43m                             \u001B[49m\u001B[38;5;66;43;03m# no special security\u001B[39;49;00m\n\u001B[32m   1540\u001B[39m \u001B[43m                             \u001B[49m\u001B[38;5;28;43;01mNone\u001B[39;49;00m\u001B[43m,\u001B[49m\u001B[43m \u001B[49m\u001B[38;5;28;43;01mNone\u001B[39;49;00m\u001B[43m,\u001B[49m\n\u001B[32m   1541\u001B[39m \u001B[43m                             \u001B[49m\u001B[38;5;28;43mint\u001B[39;49m\u001B[43m(\u001B[49m\u001B[38;5;129;43;01mnot\u001B[39;49;00m\u001B[43m \u001B[49m\u001B[43mclose_fds\u001B[49m\u001B[43m)\u001B[49m\u001B[43m,\u001B[49m\n\u001B[32m   1542\u001B[39m \u001B[43m                             \u001B[49m\u001B[43mcreationflags\u001B[49m\u001B[43m,\u001B[49m\n\u001B[32m   1543\u001B[39m \u001B[43m                             \u001B[49m\u001B[43menv\u001B[49m\u001B[43m,\u001B[49m\n\u001B[32m   1544\u001B[39m \u001B[43m                             \u001B[49m\u001B[43mcwd\u001B[49m\u001B[43m,\u001B[49m\n\u001B[32m   1545\u001B[39m \u001B[43m                             \u001B[49m\u001B[43mstartupinfo\u001B[49m\u001B[43m)\u001B[49m\n\u001B[32m   1546\u001B[39m \u001B[38;5;28;01mfinally\u001B[39;00m:\n\u001B[32m   1547\u001B[39m     \u001B[38;5;66;03m# Child is launched. Close the parent's copy of those pipe\u001B[39;00m\n\u001B[32m   1548\u001B[39m     \u001B[38;5;66;03m# handles that only the child should have open.  You need\u001B[39;00m\n\u001B[32m   (...)\u001B[39m\u001B[32m   1551\u001B[39m     \u001B[38;5;66;03m# pipe will not close when the child process exits and the\u001B[39;00m\n\u001B[32m   1552\u001B[39m     \u001B[38;5;66;03m# ReadFile will hang.\u001B[39;00m\n",
      "\u001B[31mFileNotFoundError\u001B[39m: [WinError 2] 系统找不到指定的文件。",
      "\nDuring handling of the above exception, another exception occurred:\n",
      "\u001B[31mPDFInfoNotInstalledError\u001B[39m                  Traceback (most recent call last)",
      "\u001B[36mCell\u001B[39m\u001B[36m \u001B[39m\u001B[32mIn[2]\u001B[39m\u001B[32m, line 1\u001B[39m\n\u001B[32m----> \u001B[39m\u001B[32m1\u001B[39m images = \u001B[43mconvert_from_path\u001B[49m\u001B[43m(\u001B[49m\u001B[43mpdf_path\u001B[49m\u001B[43m=\u001B[49m\u001B[33;43mr\u001B[39;49m\u001B[33;43m\"\u001B[39;49m\u001B[33;43m./data/1910.13461v1.pdf\u001B[39;49m\u001B[33;43m\"\u001B[39;49m\u001B[43m)\u001B[49m\n",
      "\u001B[36mFile \u001B[39m\u001B[32m~\\anaconda3\\envs\\colpali_env\\Lib\\site-packages\\pdf2image\\pdf2image.py:127\u001B[39m, in \u001B[36mconvert_from_path\u001B[39m\u001B[34m(pdf_path, dpi, output_folder, first_page, last_page, fmt, jpegopt, thread_count, userpw, ownerpw, use_cropbox, strict, transparent, single_file, output_file, poppler_path, grayscale, size, paths_only, use_pdftocairo, timeout, hide_annotations)\u001B[39m\n\u001B[32m    124\u001B[39m \u001B[38;5;28;01mif\u001B[39;00m \u001B[38;5;28misinstance\u001B[39m(poppler_path, PurePath):\n\u001B[32m    125\u001B[39m     poppler_path = poppler_path.as_posix()\n\u001B[32m--> \u001B[39m\u001B[32m127\u001B[39m page_count = \u001B[43mpdfinfo_from_path\u001B[49m\u001B[43m(\u001B[49m\n\u001B[32m    128\u001B[39m \u001B[43m    \u001B[49m\u001B[43mpdf_path\u001B[49m\u001B[43m,\u001B[49m\u001B[43m \u001B[49m\u001B[43muserpw\u001B[49m\u001B[43m,\u001B[49m\u001B[43m \u001B[49m\u001B[43mownerpw\u001B[49m\u001B[43m,\u001B[49m\u001B[43m \u001B[49m\u001B[43mpoppler_path\u001B[49m\u001B[43m=\u001B[49m\u001B[43mpoppler_path\u001B[49m\n\u001B[32m    129\u001B[39m \u001B[43m\u001B[49m\u001B[43m)\u001B[49m[\u001B[33m\"\u001B[39m\u001B[33mPages\u001B[39m\u001B[33m\"\u001B[39m]\n\u001B[32m    131\u001B[39m \u001B[38;5;66;03m# We start by getting the output format, the buffer processing function and if we need pdftocairo\u001B[39;00m\n\u001B[32m    132\u001B[39m parsed_fmt, final_extension, parse_buffer_func, use_pdfcairo_format = _parse_format(\n\u001B[32m    133\u001B[39m     fmt, grayscale\n\u001B[32m    134\u001B[39m )\n",
      "\u001B[36mFile \u001B[39m\u001B[32m~\\anaconda3\\envs\\colpali_env\\Lib\\site-packages\\pdf2image\\pdf2image.py:607\u001B[39m, in \u001B[36mpdfinfo_from_path\u001B[39m\u001B[34m(pdf_path, userpw, ownerpw, poppler_path, rawdates, timeout, first_page, last_page)\u001B[39m\n\u001B[32m    604\u001B[39m     \u001B[38;5;28;01mreturn\u001B[39;00m d\n\u001B[32m    606\u001B[39m \u001B[38;5;28;01mexcept\u001B[39;00m \u001B[38;5;167;01mOSError\u001B[39;00m:\n\u001B[32m--> \u001B[39m\u001B[32m607\u001B[39m     \u001B[38;5;28;01mraise\u001B[39;00m PDFInfoNotInstalledError(\n\u001B[32m    608\u001B[39m         \u001B[33m\"\u001B[39m\u001B[33mUnable to get page count. Is poppler installed and in PATH?\u001B[39m\u001B[33m\"\u001B[39m\n\u001B[32m    609\u001B[39m     )\n\u001B[32m    610\u001B[39m \u001B[38;5;28;01mexcept\u001B[39;00m \u001B[38;5;167;01mValueError\u001B[39;00m:\n\u001B[32m    611\u001B[39m     \u001B[38;5;28;01mraise\u001B[39;00m PDFPageCountError(\n\u001B[32m    612\u001B[39m         \u001B[33mf\u001B[39m\u001B[33m\"\u001B[39m\u001B[33mUnable to get page count.\u001B[39m\u001B[38;5;130;01m\\n\u001B[39;00m\u001B[38;5;132;01m{\u001B[39;00merr.decode(\u001B[33m'\u001B[39m\u001B[33mutf8\u001B[39m\u001B[33m'\u001B[39m,\u001B[38;5;250m \u001B[39m\u001B[33m'\u001B[39m\u001B[33mignore\u001B[39m\u001B[33m'\u001B[39m)\u001B[38;5;132;01m}\u001B[39;00m\u001B[33m\"\u001B[39m\n\u001B[32m    613\u001B[39m     )\n",
      "\u001B[31mPDFInfoNotInstalledError\u001B[39m: Unable to get page count. Is poppler installed and in PATH?"
     ]
    }
   ],
   "execution_count": 2
  },
  {
   "metadata": {
    "ExecuteTime": {
     "end_time": "2025-05-01T06:14:28.446342Z",
     "start_time": "2025-05-01T06:14:28.440327Z"
    }
   },
   "cell_type": "code",
   "source": "from pathlib import Path",
   "id": "c921bde1085a5d28",
   "outputs": [],
   "execution_count": 25
  },
  {
   "metadata": {
    "ExecuteTime": {
     "end_time": "2025-05-01T05:35:19.073089Z",
     "start_time": "2025-05-01T05:35:18.986215Z"
    }
   },
   "cell_type": "code",
   "source": "import fitz",
   "id": "321c0927001a252c",
   "outputs": [],
   "execution_count": 4
  },
  {
   "metadata": {
    "ExecuteTime": {
     "end_time": "2025-05-01T05:35:21.076788Z",
     "start_time": "2025-05-01T05:35:21.068794Z"
    }
   },
   "cell_type": "code",
   "source": "doc = fitz.open(r\"./data/1910.13461v1.pdf\")",
   "id": "ac9e4591d13b1ef2",
   "outputs": [],
   "execution_count": 5
  },
  {
   "metadata": {
    "ExecuteTime": {
     "end_time": "2025-05-01T05:41:31.112467Z",
     "start_time": "2025-05-01T05:41:31.108188Z"
    }
   },
   "cell_type": "code",
   "source": "doc.page_count",
   "id": "f9f544b7b1368eff",
   "outputs": [
    {
     "data": {
      "text/plain": [
       "10"
      ]
     },
     "execution_count": 15,
     "metadata": {},
     "output_type": "execute_result"
    }
   ],
   "execution_count": 15
  },
  {
   "metadata": {
    "ExecuteTime": {
     "end_time": "2025-05-01T05:35:36.850766Z",
     "start_time": "2025-05-01T05:35:36.846848Z"
    }
   },
   "cell_type": "code",
   "source": "doc",
   "id": "9cd221673331dbff",
   "outputs": [
    {
     "data": {
      "text/plain": [
       "Document('./data/1910.13461v1.pdf')"
      ]
     },
     "execution_count": 7,
     "metadata": {},
     "output_type": "execute_result"
    }
   ],
   "execution_count": 7
  },
  {
   "metadata": {},
   "cell_type": "code",
   "outputs": [],
   "execution_count": null,
   "source": "doc.pages()",
   "id": "1b86c4a0814a0b2"
  },
  {
   "metadata": {
    "ExecuteTime": {
     "end_time": "2025-05-01T06:02:44.271921Z",
     "start_time": "2025-05-01T06:02:44.263843Z"
    }
   },
   "cell_type": "code",
   "source": "type(doc.load_page(0))",
   "id": "a72eb7ef3d759b5d",
   "outputs": [
    {
     "data": {
      "text/plain": [
       "pymupdf.Page"
      ]
     },
     "execution_count": 23,
     "metadata": {},
     "output_type": "execute_result"
    }
   ],
   "execution_count": 23
  },
  {
   "metadata": {
    "ExecuteTime": {
     "end_time": "2025-05-01T06:01:49.987237Z",
     "start_time": "2025-05-01T06:01:49.979292Z"
    }
   },
   "cell_type": "code",
   "source": "type(doc[0])",
   "id": "a38a7a8cb60f2271",
   "outputs": [
    {
     "data": {
      "text/plain": [
       "pymupdf.Page"
      ]
     },
     "execution_count": 21,
     "metadata": {},
     "output_type": "execute_result"
    }
   ],
   "execution_count": 21
  },
  {
   "metadata": {
    "ExecuteTime": {
     "end_time": "2025-05-01T05:41:57.790059Z",
     "start_time": "2025-05-01T05:41:57.786059Z"
    }
   },
   "cell_type": "code",
   "source": "page0 = doc[0]",
   "id": "d11daf2bb6be4678",
   "outputs": [],
   "execution_count": 16
  },
  {
   "metadata": {
    "ExecuteTime": {
     "end_time": "2025-05-01T05:42:37.700593Z",
     "start_time": "2025-05-01T05:42:37.685581Z"
    }
   },
   "cell_type": "code",
   "source": "page0.get_pixmap()",
   "id": "8006a0beadc55c18",
   "outputs": [
    {
     "name": "stdout",
     "output_type": "stream",
     "text": [
      "Pixmap(DeviceRGB, (0, 0, 596, 842), 0)\n"
     ]
    }
   ],
   "execution_count": 18
  },
  {
   "metadata": {
    "ExecuteTime": {
     "end_time": "2025-05-01T05:43:20.515938Z",
     "start_time": "2025-05-01T05:43:20.440553Z"
    }
   },
   "cell_type": "code",
   "source": "page0.get_pixmap().pil_save(r'./test.png')",
   "id": "4183e02da32bcdfd",
   "outputs": [],
   "execution_count": 19
  },
  {
   "metadata": {
    "ExecuteTime": {
     "end_time": "2025-05-01T06:09:18.984193Z",
     "start_time": "2025-05-01T06:09:18.949206Z"
    }
   },
   "cell_type": "code",
   "source": "page0.get_pixmap().save(r'./test1.png')",
   "id": "dbc197da689249fd",
   "outputs": [],
   "execution_count": 24
  },
  {
   "metadata": {
    "ExecuteTime": {
     "end_time": "2025-05-01T06:32:56.346898Z",
     "start_time": "2025-05-01T06:32:56.332254Z"
    }
   },
   "cell_type": "code",
   "source": [
    "def convert_pdf_to_images(\n",
    "    pdf_path: str | Path,\n",
    "    output_folder: str | Path = None\n",
    ") -> None:\n",
    "    \"\"\"\n",
    "    使用pymupdf将pdf进行转换。\n",
    "\n",
    "    Args:\n",
    "        pdf_path: 待转换的pdf的路径。\n",
    "        output_folder: 转换后图片的保存路径。如果不提供，默认以pdf同名保存至同一路径下。\n",
    "\n",
    "    Returns:\n",
    "        转换，保存结果。\n",
    "    \"\"\"\n",
    "    pdf_path = Path(pdf_path)\n",
    "    output_folder = pdf_path.parent / pdf_path.stem if output_folder is None else Path(output_folder)\n",
    "    output_folder.mkdir(exist_ok=True, parents=True)\n",
    "    # 读取文件。\n",
    "    pdf_document = fitz.open(pdf_path)\n",
    "    for page_num in range(pdf_document.page_count):\n",
    "        # 加载每一页\n",
    "        page = pdf_document.load_page(page_num)\n",
    "        # 将每一页转换为图片 (pixmap)\n",
    "        pix = page.get_pixmap(matrix=fitz.Matrix(2, 2))\n",
    "        # 设置图片保存路径\n",
    "        image_path = output_folder / f'{page_num + 1}.png'\n",
    "        # 保存为PNG文件\n",
    "        pix.save(image_path)\n",
    "    # 关闭PDF文件\n",
    "    pdf_document.close()\n",
    "    print(f\"{pdf_path.name} have been saved as images in {output_folder}.\")"
   ],
   "id": "a32435f765797d6",
   "outputs": [],
   "execution_count": 32
  },
  {
   "metadata": {
    "ExecuteTime": {
     "end_time": "2025-05-01T06:32:58.828013Z",
     "start_time": "2025-05-01T06:32:58.231429Z"
    }
   },
   "cell_type": "code",
   "source": "convert_pdf_to_images(r'D:\\document\\code\\deep_learning\\some-colpali-try\\data\\1910.13461v1.pdf')",
   "id": "510b3326f3f13e63",
   "outputs": [
    {
     "name": "stdout",
     "output_type": "stream",
     "text": [
      "1910.13461v1.pdf have been saved as images in D:\\document\\code\\deep_learning\\some-colpali-try\\data\\1910.13461v1.\n"
     ]
    }
   ],
   "execution_count": 33
  }
 ],
 "metadata": {
  "kernelspec": {
   "display_name": "Python 3",
   "language": "python",
   "name": "python3"
  },
  "language_info": {
   "codemirror_mode": {
    "name": "ipython",
    "version": 2
   },
   "file_extension": ".py",
   "mimetype": "text/x-python",
   "name": "python",
   "nbconvert_exporter": "python",
   "pygments_lexer": "ipython2",
   "version": "2.7.6"
  }
 },
 "nbformat": 4,
 "nbformat_minor": 5
}
